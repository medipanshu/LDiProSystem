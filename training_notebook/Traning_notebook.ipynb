{
  "cells": [
    {
      "cell_type": "code",
      "execution_count": 25,
      "metadata": {
        "id": "t4nJNJxfDrlG"
      },
      "outputs": [],
      "source": [
        "import pandas as pd \n",
        "import numpy as np\n",
        "import matplotlib.pyplot as plt\n",
        "import seaborn as sns \n",
        "import pickle as pkl"
      ]
    },
    {
      "cell_type": "code",
      "execution_count": 26,
      "metadata": {
        "id": "qd9FKAjYHMP1"
      },
      "outputs": [],
      "source": [
        "from sklearn.preprocessing import MinMaxScaler"
      ]
    },
    {
      "cell_type": "code",
      "execution_count": 27,
      "metadata": {
        "id": "0ckeXzmwKW0u"
      },
      "outputs": [],
      "source": [
        "from sklearn.linear_model import LinearRegression"
      ]
    },
    {
      "cell_type": "code",
      "execution_count": 28,
      "metadata": {
        "id": "Csc_wmMUU1GR"
      },
      "outputs": [],
      "source": [
        "from joblib import dump, load"
      ]
    },
    {
      "cell_type": "code",
      "execution_count": 29,
      "metadata": {
        "id": "wdTmhYLoEYrU"
      },
      "outputs": [],
      "source": [
        "df = pd.read_excel('Final_data1.xlsx',index_col=0)"
      ]
    },
    {
      "cell_type": "code",
      "execution_count": 30,
      "metadata": {
        "colab": {
          "base_uri": "https://localhost:8080/",
          "height": 204
        },
        "id": "m-46MInPEm3L",
        "outputId": "bf1d6a69-1aa1-417e-edef-8eeb994c5f4d"
      },
      "outputs": [
        {
          "data": {
            "text/html": [
              "<div>\n",
              "<style scoped>\n",
              "    .dataframe tbody tr th:only-of-type {\n",
              "        vertical-align: middle;\n",
              "    }\n",
              "\n",
              "    .dataframe tbody tr th {\n",
              "        vertical-align: top;\n",
              "    }\n",
              "\n",
              "    .dataframe thead th {\n",
              "        text-align: right;\n",
              "    }\n",
              "</style>\n",
              "<table border=\"1\" class=\"dataframe\">\n",
              "  <thead>\n",
              "    <tr style=\"text-align: right;\">\n",
              "      <th></th>\n",
              "      <th>Sequence</th>\n",
              "      <th>Current weights</th>\n",
              "    </tr>\n",
              "  </thead>\n",
              "  <tbody>\n",
              "    <tr>\n",
              "      <th>0</th>\n",
              "      <td>1</td>\n",
              "      <td>1025.51</td>\n",
              "    </tr>\n",
              "    <tr>\n",
              "      <th>1</th>\n",
              "      <td>2</td>\n",
              "      <td>1025.94</td>\n",
              "    </tr>\n",
              "    <tr>\n",
              "      <th>2</th>\n",
              "      <td>3</td>\n",
              "      <td>1025.50</td>\n",
              "    </tr>\n",
              "    <tr>\n",
              "      <th>3</th>\n",
              "      <td>4</td>\n",
              "      <td>1022.96</td>\n",
              "    </tr>\n",
              "    <tr>\n",
              "      <th>4</th>\n",
              "      <td>5</td>\n",
              "      <td>1016.16</td>\n",
              "    </tr>\n",
              "  </tbody>\n",
              "</table>\n",
              "</div>"
            ],
            "text/plain": [
              "   Sequence  Current weights\n",
              "0         1          1025.51\n",
              "1         2          1025.94\n",
              "2         3          1025.50\n",
              "3         4          1022.96\n",
              "4         5          1016.16"
            ]
          },
          "execution_count": 30,
          "metadata": {},
          "output_type": "execute_result"
        }
      ],
      "source": [
        "df.head()"
      ]
    },
    {
      "cell_type": "code",
      "execution_count": 31,
      "metadata": {
        "id": "k83F9ci9EpGE"
      },
      "outputs": [],
      "source": [
        "weights = df['Current weights']"
      ]
    },
    {
      "cell_type": "code",
      "execution_count": 32,
      "metadata": {
        "colab": {
          "base_uri": "https://localhost:8080/"
        },
        "id": "YtVl-E7PEyUg",
        "outputId": "54c1fbe6-f4b7-4d20-8fcf-2ab0feb4431f"
      },
      "outputs": [
        {
          "data": {
            "text/plain": [
              "0     1025.51\n",
              "1     1025.94\n",
              "2     1025.50\n",
              "3     1022.96\n",
              "4     1016.16\n",
              "       ...   \n",
              "95     322.84\n",
              "96     314.64\n",
              "97     306.68\n",
              "98     299.00\n",
              "99     291.26\n",
              "Name: Current weights, Length: 100, dtype: float64"
            ]
          },
          "execution_count": 32,
          "metadata": {},
          "output_type": "execute_result"
        }
      ],
      "source": [
        "weights"
      ]
    },
    {
      "cell_type": "code",
      "execution_count": 33,
      "metadata": {
        "id": "50LCuD1WE2Lx"
      },
      "outputs": [],
      "source": [
        "points = np.arange(100)\n",
        "data = weights"
      ]
    },
    {
      "cell_type": "code",
      "execution_count": 34,
      "metadata": {
        "colab": {
          "base_uri": "https://localhost:8080/",
          "height": 447
        },
        "id": "0R-V5YJqGVjE",
        "outputId": "1536a58a-ec3d-46e1-9816-85bfd4b9834d"
      },
      "outputs": [
        {
          "data": {
            "text/plain": [
              "<matplotlib.collections.PathCollection at 0x7fc093a50850>"
            ]
          },
          "execution_count": 34,
          "metadata": {},
          "output_type": "execute_result"
        },
        {
          "data": {
            "image/png": "[encoded data removed]",
            "text/plain": [
              "<Figure size 640x480 with 1 Axes>"
            ]
          },
          "metadata": {},
          "output_type": "display_data"
        }
      ],
      "source": [
        "plt.scatter(points,data)"
      ]
    },
    {
      "cell_type": "code",
      "execution_count": 35,
      "metadata": {
        "id": "KMLUzzhkHIMA"
      },
      "outputs": [],
      "source": [
        "#scalar = MinMaxScaler(feature_range=(0, 1))"
      ]
    },
    {
      "cell_type": "code",
      "execution_count": 36,
      "metadata": {
        "id": "V3_NMwn-IISL"
      },
      "outputs": [],
      "source": [
        "#min_max = scalar.fit(df)"
      ]
    },
    {
      "cell_type": "code",
      "execution_count": 37,
      "metadata": {
        "id": "Zuq-dNvyJKFs"
      },
      "outputs": [],
      "source": [
        "#data = min_max.transform(df)"
      ]
    },
    {
      "cell_type": "code",
      "execution_count": 38,
      "metadata": {
        "id": "0xaGmnlKJNTN"
      },
      "outputs": [],
      "source": [
        "#x = data[:,1].reshape(-1,1)"
      ]
    },
    {
      "cell_type": "code",
      "execution_count": 39,
      "metadata": {
        "id": "-TvkI6gTK5y2"
      },
      "outputs": [],
      "source": [
        "#y = data[:,0].reshape(-1,1)"
      ]
    },
    {
      "cell_type": "code",
      "execution_count": 40,
      "metadata": {
        "id": "ZM2IelaXLHzs"
      },
      "outputs": [],
      "source": [
        "x = df['Current weights'].values.reshape(-1,1)"
      ]
    },
    {
      "cell_type": "code",
      "execution_count": 41,
      "metadata": {
        "id": "VupoD0G-Q12P"
      },
      "outputs": [],
      "source": [
        "y = df['Sequence'].values.reshape(-1,1)"
      ]
    },
    {
      "cell_type": "code",
      "execution_count": 42,
      "metadata": {
        "id": "SDhmzJIELO0N"
      },
      "outputs": [],
      "source": [
        "linear_regression = LinearRegression(fit_intercept= True)"
      ]
    },
    {
      "cell_type": "code",
      "execution_count": 43,
      "metadata": {
        "id": "zc2zzTKOLVTv"
      },
      "outputs": [],
      "source": [
        "model = linear_regression.fit(x,y)"
      ]
    },
    {
      "cell_type": "code",
      "execution_count": 44,
      "metadata": {
        "colab": {
          "base_uri": "https://localhost:8080/"
        },
        "id": "D07WLUk0LbVx",
        "outputId": "dab6dadc-0431-4107-eb89-ca1cc0398a8f"
      },
      "outputs": [
        {
          "data": {
            "text/plain": [
              "array([[137.33451607]])"
            ]
          },
          "execution_count": 44,
          "metadata": {},
          "output_type": "execute_result"
        }
      ],
      "source": [
        "prediction = model.predict([[0]])\n",
        "prediction"
      ]
    },
    {
      "cell_type": "code",
      "execution_count": 45,
      "metadata": {
        "colab": {
          "base_uri": "https://localhost:8080/"
        },
        "id": "zdY4usk6U3Sw",
        "outputId": "9c651240-f6bb-4b14-e5a4-69ddab2c1cf8"
      },
      "outputs": [
        {
          "data": {
            "text/plain": [
              "['linear_model.joblib']"
            ]
          },
          "execution_count": 45,
          "metadata": {},
          "output_type": "execute_result"
        }
      ],
      "source": [
        "dump(linear_regression, 'linear_model.joblib')"
      ]
    },
    {
      "cell_type": "code",
      "execution_count": 46,
      "metadata": {
        "id": "bD1YIW-LVcm9"
      },
      "outputs": [],
      "source": [
        "test_model = load('linear_model.joblib')"
      ]
    },
    {
      "cell_type": "code",
      "execution_count": 47,
      "metadata": {
        "colab": {
          "base_uri": "https://localhost:8080/"
        },
        "id": "EgZ_ZLnFVowD",
        "outputId": "119da079-2651-4a89-a1f7-24b7530a7d34"
      },
      "outputs": [
        {
          "data": {
            "text/plain": [
              "array([[137.33451607]])"
            ]
          },
          "execution_count": 47,
          "metadata": {},
          "output_type": "execute_result"
        }
      ],
      "source": [
        "test_model.predict([[0]])"
      ]
    },
    {
      "cell_type": "code",
      "execution_count": 48,
      "metadata": {
        "id": "egP-JKE_QFlo"
      },
      "outputs": [],
      "source": [
        "def prediction():\n",
        "  print('model can predict in range of 0 - 1000 ml')\n",
        "  try:\n",
        "    weight = int(input('Enter The weight in gm/ml to predict:'))\n",
        "    if not (weight > 0 and weight < 1000):\n",
        "      return print('Enter the value between 0-1000 ml or gm')\n",
        "  except:\n",
        "    return print('You entered invalid input')\n",
        "  test_model = load('linear_model.joblib')\n",
        "  sequence = test_model.predict([[weight]])\n",
        "  hrs = (sequence*5)/60\n",
        "  return print(hrs[0,0],'hours')\n",
        "  "
      ]
    },
    {
      "cell_type": "code",
      "execution_count": 49,
      "metadata": {
        "colab": {
          "base_uri": "https://localhost:8080/"
        },
        "id": "OaAm77NLZ0bg",
        "outputId": "67556096-8939-4c56-c2a1-9ff93d699e1c"
      },
      "outputs": [
        {
          "name": "stdout",
          "output_type": "stream",
          "text": [
            "model can predict in range of 0 - 1000 ml\n"
          ]
        }
      ],
      "source": [
        "prediction()"
      ]
    },
    {
      "cell_type": "code",
      "execution_count": null,
      "metadata": {
        "colab": {
          "base_uri": "https://localhost:8080/"
        },
        "id": "aSZTKjmuZ7D-",
        "outputId": "a26ec07a-ea92-41b5-a7af-9919e7806797"
      },
      "outputs": [
        {
          "name": "stdout",
          "output_type": "stream",
          "text": [
            "model can predict in range of 0 - 1000 ml\n",
            "Enter The weight in gm/ml to predict:500\n",
            "6.016642671974657 hours\n"
          ]
        }
      ],
      "source": [
        "prediction()"
      ]
    },
    {
      "cell_type": "code",
      "execution_count": null,
      "metadata": {
        "id": "-4OjSP5bbYDB"
      },
      "outputs": [],
      "source": []
    }
  ],
  "metadata": {
    "colab": {
      "provenance": []
    },
    "kernelspec": {
      "display_name": "Python 3",
      "name": "python3"
    },
    "language_info": {
      "codemirror_mode": {
        "name": "ipython",
        "version": 3
      },
      "file_extension": ".py",
      "mimetype": "text/x-python",
      "name": "python",
      "nbconvert_exporter": "python",
      "pygments_lexer": "ipython3",
      "version": "3.9.13"
    }
  },
  "nbformat": 4,
  "nbformat_minor": 0
}
